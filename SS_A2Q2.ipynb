{
 "cells": [
  {
   "cell_type": "markdown",
   "metadata": {},
   "source": [
    "# Submission by Sana Shaikh"
   ]
  },
  {
   "cell_type": "code",
   "execution_count": 171,
   "metadata": {},
   "outputs": [],
   "source": [
    "from sklearn.neighbors import KNeighborsClassifier\n",
    "import numpy as np\n",
    "import pandas as pd"
   ]
  },
  {
   "cell_type": "markdown",
   "metadata": {},
   "source": [
    "### A. Read the iris flower dataset from the following URL, and assign it to a Pandas DataFrame: "
   ]
  },
  {
   "cell_type": "code",
   "execution_count": 172,
   "metadata": {},
   "outputs": [
    {
     "data": {
      "text/html": [
       "<div>\n",
       "<style scoped>\n",
       "    .dataframe tbody tr th:only-of-type {\n",
       "        vertical-align: middle;\n",
       "    }\n",
       "\n",
       "    .dataframe tbody tr th {\n",
       "        vertical-align: top;\n",
       "    }\n",
       "\n",
       "    .dataframe thead th {\n",
       "        text-align: right;\n",
       "    }\n",
       "</style>\n",
       "<table border=\"1\" class=\"dataframe\">\n",
       "  <thead>\n",
       "    <tr style=\"text-align: right;\">\n",
       "      <th></th>\n",
       "      <th>sepal_length</th>\n",
       "      <th>sepal_width</th>\n",
       "      <th>petal_length</th>\n",
       "      <th>petal_width</th>\n",
       "      <th>species</th>\n",
       "    </tr>\n",
       "  </thead>\n",
       "  <tbody>\n",
       "    <tr>\n",
       "      <th>0</th>\n",
       "      <td>5.1</td>\n",
       "      <td>3.5</td>\n",
       "      <td>1.4</td>\n",
       "      <td>0.2</td>\n",
       "      <td>setosa</td>\n",
       "    </tr>\n",
       "    <tr>\n",
       "      <th>1</th>\n",
       "      <td>4.9</td>\n",
       "      <td>3.0</td>\n",
       "      <td>1.4</td>\n",
       "      <td>0.2</td>\n",
       "      <td>setosa</td>\n",
       "    </tr>\n",
       "    <tr>\n",
       "      <th>2</th>\n",
       "      <td>4.7</td>\n",
       "      <td>3.2</td>\n",
       "      <td>1.3</td>\n",
       "      <td>0.2</td>\n",
       "      <td>setosa</td>\n",
       "    </tr>\n",
       "    <tr>\n",
       "      <th>3</th>\n",
       "      <td>4.6</td>\n",
       "      <td>3.1</td>\n",
       "      <td>1.5</td>\n",
       "      <td>0.2</td>\n",
       "      <td>setosa</td>\n",
       "    </tr>\n",
       "    <tr>\n",
       "      <th>4</th>\n",
       "      <td>5.0</td>\n",
       "      <td>3.6</td>\n",
       "      <td>1.4</td>\n",
       "      <td>0.2</td>\n",
       "      <td>setosa</td>\n",
       "    </tr>\n",
       "  </tbody>\n",
       "</table>\n",
       "</div>"
      ],
      "text/plain": [
       "   sepal_length  sepal_width  petal_length  petal_width species\n",
       "0           5.1          3.5           1.4          0.2  setosa\n",
       "1           4.9          3.0           1.4          0.2  setosa\n",
       "2           4.7          3.2           1.3          0.2  setosa\n",
       "3           4.6          3.1           1.5          0.2  setosa\n",
       "4           5.0          3.6           1.4          0.2  setosa"
      ]
     },
     "execution_count": 172,
     "metadata": {},
     "output_type": "execute_result"
    }
   ],
   "source": [
    "df = pd.DataFrame()\n",
    "df = pd.read_csv('https://raw.githubusercontent.com/mpourhoma/CS4661/master/iris.csv')\n",
    "\n",
    "features = ['sepal_length', 'sepal_width', 'petal_length', 'petal_width']\n",
    "#label = ['species']\n",
    "X = df[features]\n",
    "y = df['species']\n",
    "df.head()"
   ]
  },
  {
   "cell_type": "markdown",
   "metadata": {},
   "source": [
    "### B. Split the dataset into testing and training sets with the following parameters: test_size=0.4, random_state=6:"
   ]
  },
  {
   "cell_type": "code",
   "execution_count": 173,
   "metadata": {},
   "outputs": [
    {
     "name": "stdout",
     "output_type": "stream",
     "text": [
      "     sepal_length  sepal_width  petal_length  petal_width\n",
      "4             5.0          3.6           1.4          0.2\n",
      "116           6.5          3.0           5.5          1.8\n",
      "2             4.7          3.2           1.3          0.2\n",
      "23            5.1          3.3           1.7          0.5\n",
      "123           6.3          2.7           4.9          1.8\n",
      "96            5.7          2.9           4.2          1.3\n",
      "134           6.1          2.6           5.6          1.4\n",
      "39            5.1          3.4           1.5          0.2\n",
      "137           6.4          3.1           5.5          1.8\n",
      "53            5.5          2.3           4.0          1.3\n",
      "127           6.1          3.0           4.9          1.8\n",
      "81            5.5          2.4           3.7          1.0\n",
      "115           6.4          3.2           5.3          2.3\n",
      "135           7.7          3.0           6.1          2.3\n",
      "74            6.4          2.9           4.3          1.3\n",
      "119           6.0          2.2           5.0          1.5\n",
      "105           7.6          3.0           6.6          2.1\n",
      "51            6.4          3.2           4.5          1.5\n",
      "92            5.8          2.6           4.0          1.2\n",
      "32            5.2          4.1           1.5          0.1\n",
      "37            4.9          3.1           1.5          0.1\n",
      "120           6.9          3.2           5.7          2.3\n",
      "44            5.1          3.8           1.9          0.4\n",
      "0             5.1          3.5           1.4          0.2\n",
      "55            5.7          2.8           4.5          1.3\n",
      "72            6.3          2.5           4.9          1.5\n",
      "87            6.3          2.3           4.4          1.3\n",
      "102           7.1          3.0           5.9          2.1\n",
      "30            4.8          3.1           1.6          0.2\n",
      "93            5.0          2.3           3.3          1.0\n",
      "45            4.8          3.0           1.4          0.3\n",
      "59            5.2          2.7           3.9          1.4\n",
      "16            5.4          3.9           1.3          0.4\n",
      "13            4.3          3.0           1.1          0.1\n",
      "133           6.3          2.8           5.1          1.5\n",
      "128           6.4          2.8           5.6          2.1\n",
      "64            5.6          2.9           3.6          1.3\n",
      "146           6.3          2.5           5.0          1.9\n",
      "95            5.7          3.0           4.2          1.2\n",
      "49            5.0          3.3           1.4          0.2\n",
      "17            5.1          3.5           1.4          0.3\n",
      "103           6.3          2.9           5.6          1.8\n",
      "71            6.1          2.8           4.0          1.3\n",
      "61            5.9          3.0           4.2          1.5\n",
      "46            5.1          3.8           1.6          0.2\n",
      "12            4.8          3.0           1.4          0.1\n",
      "52            6.9          3.1           4.9          1.5\n",
      "27            5.2          3.5           1.5          0.2\n",
      "34            4.9          3.1           1.5          0.1\n",
      "54            6.5          2.8           4.6          1.5\n",
      "118           7.7          2.6           6.9          2.3\n",
      "117           7.7          3.8           6.7          2.2\n",
      "121           5.6          2.8           4.9          2.0\n",
      "6             4.6          3.4           1.4          0.3\n",
      "111           6.4          2.7           5.3          1.9\n",
      "18            5.7          3.8           1.7          0.3\n",
      "38            4.4          3.0           1.3          0.2\n",
      "20            5.4          3.4           1.7          0.2\n",
      "58            6.6          2.9           4.6          1.3\n",
      "108           6.7          2.5           5.8          1.8\n"
     ]
    }
   ],
   "source": [
    "from sklearn.model_selection import train_test_split\n",
    "X_train, X_test, y_train, y_test = train_test_split(X, y, test_size=0.4, random_state=6)\n",
    "\n",
    "print(X_test)"
   ]
  },
  {
   "cell_type": "markdown",
   "metadata": {},
   "source": [
    "### C. Instantiate a KNN object with K=3, train it on the training set and test it on the testing set: "
   ]
  },
  {
   "cell_type": "code",
   "execution_count": 174,
   "metadata": {},
   "outputs": [
    {
     "data": {
      "text/plain": [
       "KNeighborsClassifier(n_neighbors=3)"
      ]
     },
     "execution_count": 174,
     "metadata": {},
     "output_type": "execute_result"
    }
   ],
   "source": [
    "k=3\n",
    "my_knn = KNeighborsClassifier(n_neighbors=k)\n",
    "#training on the training set\n",
    "my_knn.fit(X_train,y_train)"
   ]
  },
  {
   "cell_type": "code",
   "execution_count": 175,
   "metadata": {},
   "outputs": [
    {
     "name": "stdout",
     "output_type": "stream",
     "text": [
      "['setosa' 'virginica' 'setosa' 'setosa' 'virginica' 'versicolor'\n",
      " 'virginica' 'setosa' 'virginica' 'versicolor' 'virginica' 'versicolor'\n",
      " 'virginica' 'virginica' 'versicolor' 'versicolor' 'virginica'\n",
      " 'versicolor' 'versicolor' 'setosa' 'setosa' 'virginica' 'setosa' 'setosa'\n",
      " 'versicolor' 'versicolor' 'versicolor' 'virginica' 'setosa' 'versicolor'\n",
      " 'setosa' 'versicolor' 'setosa' 'setosa' 'versicolor' 'virginica'\n",
      " 'versicolor' 'virginica' 'versicolor' 'setosa' 'setosa' 'virginica'\n",
      " 'versicolor' 'versicolor' 'setosa' 'setosa' 'versicolor' 'setosa'\n",
      " 'setosa' 'versicolor' 'virginica' 'virginica' 'virginica' 'setosa'\n",
      " 'virginica' 'setosa' 'setosa' 'setosa' 'versicolor' 'virginica']\n"
     ]
    }
   ],
   "source": [
    "y_predict = my_knn.predict(X_test)\n",
    "\n",
    "print(y_predict)"
   ]
  },
  {
   "cell_type": "markdown",
   "metadata": {},
   "source": [
    "### Now, calculate the accuracy of your prediction: "
   ]
  },
  {
   "cell_type": "code",
   "execution_count": 176,
   "metadata": {},
   "outputs": [
    {
     "name": "stdout",
     "output_type": "stream",
     "text": [
      "0.9666666666666667\n"
     ]
    }
   ],
   "source": [
    "from sklearn.metrics import accuracy_score\n",
    "\n",
    "accuracy = accuracy_score(y_test, y_predict)\n",
    "print(accuracy)"
   ]
  },
  {
   "cell_type": "markdown",
   "metadata": {},
   "source": [
    "### D. Repeat part (c) for K=1, K=5, K=7, K=11, K=15, K=27, K=59. Does the accuracy always get better by increasing the value K?"
   ]
  },
  {
   "cell_type": "code",
   "execution_count": 177,
   "metadata": {},
   "outputs": [
    {
     "name": "stdout",
     "output_type": "stream",
     "text": [
      "[0.95, 0.9833333333333333, 0.9666666666666667, 0.9666666666666667, 0.9333333333333333, 0.9166666666666666, 0.8166666666666667]\n"
     ]
    }
   ],
   "source": [
    "knn = [1,5,7,11,15,27,59]\n",
    "knn_accuracy = []\n",
    "\n",
    "for k in knn:\n",
    "    my_knn = KNeighborsClassifier(n_neighbors=k)\n",
    "    my_knn.fit(X_train,y_train)\n",
    "    y_predict = my_knn.predict(X_test)\n",
    "    accuracy = accuracy_score(y_test, y_predict)\n",
    "    knn_accuracy.append(accuracy)\n",
    "\n",
    "print(knn_accuracy)"
   ]
  },
  {
   "cell_type": "markdown",
   "metadata": {},
   "source": [
    "Answer: No. While there is an increase in accuracy when k=5, it generally does not get better as you increase k even more. The accuracy gradually decreases as you increase k."
   ]
  },
  {
   "cell_type": "markdown",
   "metadata": {},
   "source": [
    "### E. Repeat part (c) with K=3, four times (each time using only one of the 4 features), and compute the accuracy each time: "
   ]
  },
  {
   "cell_type": "code",
   "execution_count": 178,
   "metadata": {},
   "outputs": [
    {
     "name": "stdout",
     "output_type": "stream",
     "text": [
      "Accuracy for feature one (sepal length):  0.7166666666666667\n"
     ]
    }
   ],
   "source": [
    "feature_one = ['sepal_length']\n",
    "\n",
    "X = df[feature_one]\n",
    "y = df['species']\n",
    "\n",
    "X_train, X_test, y_train, y_test = train_test_split(X, y, test_size=0.4, random_state=6)\n",
    "#print(X_test)\n",
    "\n",
    "k=3\n",
    "my_knn = KNeighborsClassifier(n_neighbors=k)\n",
    "#training on the training set\n",
    "my_knn.fit(X_train,y_train)\n",
    "\n",
    "y_predict = my_knn.predict(X_test)\n",
    "#print(y_predict)\n",
    "\n",
    "sepal_length_accuracy = accuracy_score(y_test, y_predict)\n",
    "print(\"Accuracy for feature one (sepal length): \", sepal_length_accuracy)"
   ]
  },
  {
   "cell_type": "code",
   "execution_count": 179,
   "metadata": {},
   "outputs": [
    {
     "name": "stdout",
     "output_type": "stream",
     "text": [
      "Accuracy for feature two (sepal width):  0.5666666666666667\n"
     ]
    }
   ],
   "source": [
    "feature_two = ['sepal_width']\n",
    "\n",
    "X = df[feature_two]\n",
    "y = df['species']\n",
    "\n",
    "X_train, X_test, y_train, y_test = train_test_split(X, y, test_size=0.4, random_state=6)\n",
    "#print(X_test)\n",
    "\n",
    "k=3\n",
    "my_knn = KNeighborsClassifier(n_neighbors=k)\n",
    "#training on the training set\n",
    "my_knn.fit(X_train,y_train)\n",
    "\n",
    "y_predict = my_knn.predict(X_test)\n",
    "#print(y_predict)\n",
    "\n",
    "sepal_width_accuracy = accuracy_score(y_test, y_predict)\n",
    "print(\"Accuracy for feature two (sepal width): \", sepal_width_accuracy)"
   ]
  },
  {
   "cell_type": "code",
   "execution_count": 180,
   "metadata": {},
   "outputs": [
    {
     "name": "stdout",
     "output_type": "stream",
     "text": [
      "Accuracy for feature three (petal length):  0.9333333333333333\n"
     ]
    }
   ],
   "source": [
    "feature_three = ['petal_length']\n",
    "\n",
    "X = df[feature_three]\n",
    "y = df['species']\n",
    "\n",
    "X_train, X_test, y_train, y_test = train_test_split(X, y, test_size=0.4, random_state=6)\n",
    "#print(X_test)\n",
    "\n",
    "k=3\n",
    "my_knn = KNeighborsClassifier(n_neighbors=k)\n",
    "#training on the training set\n",
    "my_knn.fit(X_train,y_train)\n",
    "\n",
    "y_predict = my_knn.predict(X_test)\n",
    "#print(y_predict)\n",
    "\n",
    "petal_length_accuracy = accuracy_score(y_test, y_predict)\n",
    "print(\"Accuracy for feature three (petal length): \", petal_length_accuracy)"
   ]
  },
  {
   "cell_type": "code",
   "execution_count": 181,
   "metadata": {},
   "outputs": [
    {
     "name": "stdout",
     "output_type": "stream",
     "text": [
      "Accuracy for feature four (petal width):  0.95\n"
     ]
    }
   ],
   "source": [
    "feature_four = ['petal_width']\n",
    "\n",
    "X = df[feature_four]\n",
    "y = df['species']\n",
    "\n",
    "X_train, X_test, y_train, y_test = train_test_split(X, y, test_size=0.4, random_state=6)\n",
    "#print(X_test)\n",
    "\n",
    "k=3\n",
    "my_knn = KNeighborsClassifier(n_neighbors=k)\n",
    "#training on the training set\n",
    "my_knn.fit(X_train,y_train)\n",
    "\n",
    "y_predict = my_knn.predict(X_test)\n",
    "#print(y_predict)\n",
    "\n",
    "petal_width_accuracy = accuracy_score(y_test, y_predict)\n",
    "print(\"Accuracy for feature four (petal width): \", petal_width_accuracy)"
   ]
  },
  {
   "cell_type": "code",
   "execution_count": 182,
   "metadata": {},
   "outputs": [
    {
     "name": "stdout",
     "output_type": "stream",
     "text": [
      "Accuracies:\n",
      "\n",
      "Feature one: 0.7166666666666667\n",
      "Feature two: 0.5666666666666667\n",
      "Feature three: 0.9333333333333333\n",
      "Feature four: 0.95\n"
     ]
    }
   ],
   "source": [
    "#E. Answer\n",
    "\n",
    "print(\"Accuracies:\\n\")\n",
    "print(\"Feature one:\", sepal_length_accuracy)\n",
    "print(\"Feature two:\", sepal_width_accuracy)\n",
    "print(\"Feature three:\", petal_length_accuracy)\n",
    "print(\"Feature four:\", petal_width_accuracy) "
   ]
  },
  {
   "cell_type": "markdown",
   "metadata": {},
   "source": [
    "Which individual feature provide the best accuracy (the best feature)?  Which one is the second best feature?\n",
    "\n",
    "Answer: Clearly, Feature four provides the best accuracy. So, petal_width is the best feature. While petal_length is the second best feature."
   ]
  },
  {
   "cell_type": "markdown",
   "metadata": {},
   "source": [
    "### F. Now, we want to repeat part (e), this time using two features. you have to train, test, and evaluate your model for 6 different cases: using (1st and 2nd features), (1st and 3rd features), (1st and 4th  features), (2nd  and 3rd  features), (2nd and 4th features), (3rd and 4th  features):  "
   ]
  },
  {
   "cell_type": "code",
   "execution_count": 183,
   "metadata": {},
   "outputs": [
    {
     "name": "stdout",
     "output_type": "stream",
     "text": [
      "Accuracy for feature pair one (1st and 2nd Features):  0.8166666666666667\n"
     ]
    }
   ],
   "source": [
    "# 1st and 2nd Features\n",
    "feature_pair_one = ['sepal_length','sepal_width']\n",
    "\n",
    "X = df[feature_pair_one]\n",
    "y = df['species']\n",
    "\n",
    "X_train, X_test, y_train, y_test = train_test_split(X, y, test_size=0.4, random_state=6)\n",
    "#print(X_test)\n",
    "\n",
    "k=3\n",
    "my_knn = KNeighborsClassifier(n_neighbors=k)\n",
    "\n",
    "#training on the training set\n",
    "my_knn.fit(X_train,y_train)\n",
    "\n",
    "y_predict = my_knn.predict(X_test)\n",
    "#print(y_predict)\n",
    "\n",
    "pair_one_accuracy = accuracy_score(y_test, y_predict)\n",
    "print(\"Accuracy for feature pair one (1st and 2nd Features): \", pair_one_accuracy)"
   ]
  },
  {
   "cell_type": "code",
   "execution_count": 184,
   "metadata": {},
   "outputs": [
    {
     "name": "stdout",
     "output_type": "stream",
     "text": [
      "Accuracy for feature pair two (1st and 3rd Features):  0.9833333333333333\n"
     ]
    }
   ],
   "source": [
    "# 1st and 3rd Features\n",
    "feature_pair_two = ['sepal_length','petal_length']\n",
    "\n",
    "X = df[feature_pair_two]\n",
    "y = df['species']\n",
    "\n",
    "X_train, X_test, y_train, y_test = train_test_split(X, y, test_size=0.4, random_state=6)\n",
    "#print(X_test)\n",
    "\n",
    "k=3\n",
    "my_knn = KNeighborsClassifier(n_neighbors=k)\n",
    "\n",
    "my_knn.fit(X_train,y_train)\n",
    "\n",
    "y_predict = my_knn.predict(X_test)\n",
    "\n",
    "pair_two_accuracy = accuracy_score(y_test, y_predict)\n",
    "print(\"Accuracy for feature pair two (1st and 3rd Features): \", pair_two_accuracy)"
   ]
  },
  {
   "cell_type": "code",
   "execution_count": 185,
   "metadata": {},
   "outputs": [
    {
     "name": "stdout",
     "output_type": "stream",
     "text": [
      "Accuracy for feature pair three (1st and 4th Features):  0.95\n"
     ]
    }
   ],
   "source": [
    "# 1st and 4th Features\n",
    "feature_pair_three = ['sepal_length','petal_width']\n",
    "\n",
    "X = df[feature_pair_three]\n",
    "y = df['species']\n",
    "\n",
    "X_train, X_test, y_train, y_test = train_test_split(X, y, test_size=0.4, random_state=6)\n",
    "#print(X_test)\n",
    "\n",
    "k=3\n",
    "my_knn = KNeighborsClassifier(n_neighbors=k)\n",
    "my_knn.fit(X_train,y_train)\n",
    "\n",
    "y_predict = my_knn.predict(X_test)\n",
    "\n",
    "pair_three_accuracy = accuracy_score(y_test, y_predict)\n",
    "print(\"Accuracy for feature pair three (1st and 4th Features): \", pair_three_accuracy)"
   ]
  },
  {
   "cell_type": "code",
   "execution_count": 186,
   "metadata": {},
   "outputs": [
    {
     "name": "stdout",
     "output_type": "stream",
     "text": [
      "Accuracy for feature pair four (2nd and 3rd Features):  0.95\n"
     ]
    }
   ],
   "source": [
    "# 2nd and 3rd Features\n",
    "feature_pair_four = ['sepal_width','petal_length']\n",
    "\n",
    "X = df[feature_pair_four]\n",
    "y = df['species']\n",
    "\n",
    "X_train, X_test, y_train, y_test = train_test_split(X, y, test_size=0.4, random_state=6)\n",
    "#print(X_test)\n",
    "\n",
    "k=3\n",
    "my_knn = KNeighborsClassifier(n_neighbors=k)\n",
    "my_knn.fit(X_train,y_train)\n",
    "\n",
    "y_predict = my_knn.predict(X_test)\n",
    "\n",
    "pair_four_accuracy = accuracy_score(y_test, y_predict)\n",
    "print(\"Accuracy for feature pair four (2nd and 3rd Features): \", pair_four_accuracy)"
   ]
  },
  {
   "cell_type": "code",
   "execution_count": 187,
   "metadata": {},
   "outputs": [
    {
     "name": "stdout",
     "output_type": "stream",
     "text": [
      "Accuracy for feature pair five (2nd and 4th Features):  0.95\n"
     ]
    }
   ],
   "source": [
    "# 2nd and 4th Features\n",
    "feature_pair_five = ['sepal_width','petal_width']\n",
    "\n",
    "X = df[feature_pair_five]\n",
    "y = df['species']\n",
    "\n",
    "X_train, X_test, y_train, y_test = train_test_split(X, y, test_size=0.4, random_state=6)\n",
    "#print(X_test)\n",
    "\n",
    "k=3\n",
    "my_knn = KNeighborsClassifier(n_neighbors=k)\n",
    "my_knn.fit(X_train,y_train)\n",
    "\n",
    "y_predict = my_knn.predict(X_test)\n",
    "\n",
    "pair_five_accuracy = accuracy_score(y_test, y_predict)\n",
    "print(\"Accuracy for feature pair five (2nd and 4th Features): \", pair_five_accuracy)"
   ]
  },
  {
   "cell_type": "code",
   "execution_count": 188,
   "metadata": {},
   "outputs": [
    {
     "name": "stdout",
     "output_type": "stream",
     "text": [
      "Accuracy for feature pair six (3rd and 4th Features):  0.9666666666666667\n"
     ]
    }
   ],
   "source": [
    "# 3rd and 4th Features\n",
    "feature_pair_six = ['petal_length','petal_width']\n",
    "\n",
    "X = df[feature_pair_six]\n",
    "y = df['species']\n",
    "\n",
    "X_train, X_test, y_train, y_test = train_test_split(X, y, test_size=0.4, random_state=6)\n",
    "#print(X_test)\n",
    "\n",
    "k=3\n",
    "my_knn = KNeighborsClassifier(n_neighbors=k)\n",
    "my_knn.fit(X_train,y_train)\n",
    "\n",
    "y_predict = my_knn.predict(X_test)\n",
    "\n",
    "pair_six_accuracy = accuracy_score(y_test, y_predict)\n",
    "print(\"Accuracy for feature pair six (3rd and 4th Features): \", pair_six_accuracy)"
   ]
  },
  {
   "cell_type": "code",
   "execution_count": 189,
   "metadata": {},
   "outputs": [
    {
     "name": "stdout",
     "output_type": "stream",
     "text": [
      "Accuracy for feature pair one (1st and 2nd Features):  0.8166666666666667\n",
      "Accuracy for feature pair two (1st and 3rd Features):  0.9833333333333333\n",
      "Accuracy for feature pair three (1st and 4th Features):  0.95\n",
      "Accuracy for feature pair four (2nd and 3rd Features):  0.95\n",
      "Accuracy for feature pair five (2nd and 4th Features):  0.95\n",
      "Accuracy for feature pair six (3rd and 4th Features):  0.9666666666666667\n"
     ]
    }
   ],
   "source": [
    "# F. Answer:\n",
    "\n",
    "print(\"Accuracy for feature pair one (1st and 2nd Features): \", pair_one_accuracy)\n",
    "print(\"Accuracy for feature pair two (1st and 3rd Features): \", pair_two_accuracy)\n",
    "print(\"Accuracy for feature pair three (1st and 4th Features): \", pair_three_accuracy)\n",
    "print(\"Accuracy for feature pair four (2nd and 3rd Features): \", pair_four_accuracy)\n",
    "print(\"Accuracy for feature pair five (2nd and 4th Features): \", pair_five_accuracy)\n",
    "print(\"Accuracy for feature pair six (3rd and 4th Features): \", pair_six_accuracy)"
   ]
  },
  {
   "cell_type": "markdown",
   "metadata": {},
   "source": [
    "Which “feature pair” provides the best accuracy?\n",
    "\n",
    "Answer: The second feature pair (sepal_length and petal_length) provides the best accuracy. While the sixth feature pair (petal_length and petal_width) provides the second best accuracy."
   ]
  },
  {
   "cell_type": "markdown",
   "metadata": {},
   "source": [
    "### G. Does the “best feature pair” from part (f) contain of both “first best feature” and “second best feature” from part (e)? In other word, can we conclude that the “best two features” for classification are the first best feature along with the second best feature together?"
   ]
  },
  {
   "cell_type": "markdown",
   "metadata": {},
   "source": [
    "Answer: No. The \"best feature pair\" form part F does not contain both the features with the best individual accuracy from part E. It only contains one feature that was second best in our part E. So, we cannot conclude that the \"best two features\" for classification are the first best feature along with the second best feature together. It's in fact, the second best feature and the third best feature together that make the \"best feature pair\"."
   ]
  },
  {
   "cell_type": "markdown",
   "metadata": {},
   "source": [
    "### H. Optional Question: Justify your answer for part (g)! If yes, why?  If no, why not?"
   ]
  },
  {
   "cell_type": "markdown",
   "metadata": {},
   "source": [
    "Answer: No, because while one feature may be the best feature on its own, it may not make the best pair when paired with the second best feature."
   ]
  },
  {
   "cell_type": "code",
   "execution_count": null,
   "metadata": {},
   "outputs": [],
   "source": []
  }
 ],
 "metadata": {
  "kernelspec": {
   "display_name": "Python 3",
   "language": "python",
   "name": "python3"
  },
  "language_info": {
   "codemirror_mode": {
    "name": "ipython",
    "version": 3
   },
   "file_extension": ".py",
   "mimetype": "text/x-python",
   "name": "python",
   "nbconvert_exporter": "python",
   "pygments_lexer": "ipython3",
   "version": "3.8.2"
  }
 },
 "nbformat": 4,
 "nbformat_minor": 4
}
