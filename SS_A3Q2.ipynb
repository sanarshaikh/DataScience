{
 "cells": [
  {
   "cell_type": "markdown",
   "metadata": {},
   "source": [
    "# Sana Shaikh - Question #2"
   ]
  },
  {
   "cell_type": "code",
   "execution_count": 57,
   "metadata": {},
   "outputs": [],
   "source": [
    "#import the required Classes, packages and libraries\n",
    "from sklearn.linear_model import LinearRegression\n",
    "from sklearn import metrics\n",
    "\n",
    "import numpy as np\n",
    "import pandas as pd"
   ]
  },
  {
   "cell_type": "markdown",
   "metadata": {},
   "source": [
    "### A. Read the dataset file “Credit.csv” and assign it to a Pandas DataFrame:"
   ]
  },
  {
   "cell_type": "code",
   "execution_count": 58,
   "metadata": {},
   "outputs": [],
   "source": [
    "credit_df = pd.read_csv(\"https://github.com/mpourhoma/CS4661/raw/master/Credit.csv\") "
   ]
  },
  {
   "cell_type": "markdown",
   "metadata": {},
   "source": [
    "### B. Check out the dataset: "
   ]
  },
  {
   "cell_type": "code",
   "execution_count": 59,
   "metadata": {},
   "outputs": [
    {
     "data": {
      "text/html": [
       "<div>\n",
       "<style scoped>\n",
       "    .dataframe tbody tr th:only-of-type {\n",
       "        vertical-align: middle;\n",
       "    }\n",
       "\n",
       "    .dataframe tbody tr th {\n",
       "        vertical-align: top;\n",
       "    }\n",
       "\n",
       "    .dataframe thead th {\n",
       "        text-align: right;\n",
       "    }\n",
       "</style>\n",
       "<table border=\"1\" class=\"dataframe\">\n",
       "  <thead>\n",
       "    <tr style=\"text-align: right;\">\n",
       "      <th></th>\n",
       "      <th>Income</th>\n",
       "      <th>Limit</th>\n",
       "      <th>Rating</th>\n",
       "      <th>Cards</th>\n",
       "      <th>Age</th>\n",
       "      <th>Education</th>\n",
       "      <th>Married</th>\n",
       "      <th>Balance</th>\n",
       "    </tr>\n",
       "  </thead>\n",
       "  <tbody>\n",
       "    <tr>\n",
       "      <th>0</th>\n",
       "      <td>14.891</td>\n",
       "      <td>3606</td>\n",
       "      <td>283</td>\n",
       "      <td>2</td>\n",
       "      <td>34</td>\n",
       "      <td>11</td>\n",
       "      <td>1</td>\n",
       "      <td>333</td>\n",
       "    </tr>\n",
       "    <tr>\n",
       "      <th>20</th>\n",
       "      <td>17.700</td>\n",
       "      <td>2860</td>\n",
       "      <td>235</td>\n",
       "      <td>4</td>\n",
       "      <td>63</td>\n",
       "      <td>16</td>\n",
       "      <td>0</td>\n",
       "      <td>89</td>\n",
       "    </tr>\n",
       "    <tr>\n",
       "      <th>40</th>\n",
       "      <td>34.950</td>\n",
       "      <td>3327</td>\n",
       "      <td>253</td>\n",
       "      <td>3</td>\n",
       "      <td>54</td>\n",
       "      <td>14</td>\n",
       "      <td>0</td>\n",
       "      <td>50</td>\n",
       "    </tr>\n",
       "    <tr>\n",
       "      <th>60</th>\n",
       "      <td>35.510</td>\n",
       "      <td>5198</td>\n",
       "      <td>364</td>\n",
       "      <td>2</td>\n",
       "      <td>35</td>\n",
       "      <td>20</td>\n",
       "      <td>0</td>\n",
       "      <td>631</td>\n",
       "    </tr>\n",
       "    <tr>\n",
       "      <th>80</th>\n",
       "      <td>27.369</td>\n",
       "      <td>3449</td>\n",
       "      <td>288</td>\n",
       "      <td>3</td>\n",
       "      <td>40</td>\n",
       "      <td>9</td>\n",
       "      <td>1</td>\n",
       "      <td>162</td>\n",
       "    </tr>\n",
       "    <tr>\n",
       "      <th>100</th>\n",
       "      <td>21.153</td>\n",
       "      <td>3736</td>\n",
       "      <td>256</td>\n",
       "      <td>1</td>\n",
       "      <td>41</td>\n",
       "      <td>11</td>\n",
       "      <td>0</td>\n",
       "      <td>298</td>\n",
       "    </tr>\n",
       "    <tr>\n",
       "      <th>120</th>\n",
       "      <td>27.241</td>\n",
       "      <td>1402</td>\n",
       "      <td>128</td>\n",
       "      <td>2</td>\n",
       "      <td>67</td>\n",
       "      <td>15</td>\n",
       "      <td>1</td>\n",
       "      <td>0</td>\n",
       "    </tr>\n",
       "    <tr>\n",
       "      <th>140</th>\n",
       "      <td>39.831</td>\n",
       "      <td>6045</td>\n",
       "      <td>459</td>\n",
       "      <td>3</td>\n",
       "      <td>32</td>\n",
       "      <td>12</td>\n",
       "      <td>1</td>\n",
       "      <td>1425</td>\n",
       "    </tr>\n",
       "    <tr>\n",
       "      <th>160</th>\n",
       "      <td>12.238</td>\n",
       "      <td>4865</td>\n",
       "      <td>381</td>\n",
       "      <td>5</td>\n",
       "      <td>67</td>\n",
       "      <td>11</td>\n",
       "      <td>0</td>\n",
       "      <td>836</td>\n",
       "    </tr>\n",
       "    <tr>\n",
       "      <th>180</th>\n",
       "      <td>10.635</td>\n",
       "      <td>3584</td>\n",
       "      <td>294</td>\n",
       "      <td>5</td>\n",
       "      <td>69</td>\n",
       "      <td>16</td>\n",
       "      <td>1</td>\n",
       "      <td>423</td>\n",
       "    </tr>\n",
       "    <tr>\n",
       "      <th>200</th>\n",
       "      <td>23.949</td>\n",
       "      <td>5343</td>\n",
       "      <td>383</td>\n",
       "      <td>2</td>\n",
       "      <td>40</td>\n",
       "      <td>18</td>\n",
       "      <td>1</td>\n",
       "      <td>829</td>\n",
       "    </tr>\n",
       "    <tr>\n",
       "      <th>220</th>\n",
       "      <td>44.847</td>\n",
       "      <td>5765</td>\n",
       "      <td>437</td>\n",
       "      <td>3</td>\n",
       "      <td>53</td>\n",
       "      <td>13</td>\n",
       "      <td>0</td>\n",
       "      <td>1246</td>\n",
       "    </tr>\n",
       "    <tr>\n",
       "      <th>240</th>\n",
       "      <td>29.705</td>\n",
       "      <td>3351</td>\n",
       "      <td>262</td>\n",
       "      <td>5</td>\n",
       "      <td>71</td>\n",
       "      <td>14</td>\n",
       "      <td>1</td>\n",
       "      <td>148</td>\n",
       "    </tr>\n",
       "    <tr>\n",
       "      <th>260</th>\n",
       "      <td>67.937</td>\n",
       "      <td>5184</td>\n",
       "      <td>383</td>\n",
       "      <td>4</td>\n",
       "      <td>63</td>\n",
       "      <td>12</td>\n",
       "      <td>1</td>\n",
       "      <td>345</td>\n",
       "    </tr>\n",
       "    <tr>\n",
       "      <th>280</th>\n",
       "      <td>53.401</td>\n",
       "      <td>5319</td>\n",
       "      <td>377</td>\n",
       "      <td>3</td>\n",
       "      <td>35</td>\n",
       "      <td>12</td>\n",
       "      <td>0</td>\n",
       "      <td>541</td>\n",
       "    </tr>\n",
       "    <tr>\n",
       "      <th>300</th>\n",
       "      <td>21.786</td>\n",
       "      <td>4632</td>\n",
       "      <td>355</td>\n",
       "      <td>1</td>\n",
       "      <td>50</td>\n",
       "      <td>17</td>\n",
       "      <td>1</td>\n",
       "      <td>580</td>\n",
       "    </tr>\n",
       "    <tr>\n",
       "      <th>320</th>\n",
       "      <td>16.279</td>\n",
       "      <td>1160</td>\n",
       "      <td>126</td>\n",
       "      <td>3</td>\n",
       "      <td>78</td>\n",
       "      <td>13</td>\n",
       "      <td>1</td>\n",
       "      <td>5</td>\n",
       "    </tr>\n",
       "    <tr>\n",
       "      <th>340</th>\n",
       "      <td>27.794</td>\n",
       "      <td>3807</td>\n",
       "      <td>301</td>\n",
       "      <td>4</td>\n",
       "      <td>35</td>\n",
       "      <td>8</td>\n",
       "      <td>1</td>\n",
       "      <td>320</td>\n",
       "    </tr>\n",
       "    <tr>\n",
       "      <th>360</th>\n",
       "      <td>53.566</td>\n",
       "      <td>5891</td>\n",
       "      <td>434</td>\n",
       "      <td>4</td>\n",
       "      <td>82</td>\n",
       "      <td>10</td>\n",
       "      <td>0</td>\n",
       "      <td>712</td>\n",
       "    </tr>\n",
       "    <tr>\n",
       "      <th>380</th>\n",
       "      <td>115.123</td>\n",
       "      <td>7760</td>\n",
       "      <td>538</td>\n",
       "      <td>3</td>\n",
       "      <td>83</td>\n",
       "      <td>14</td>\n",
       "      <td>0</td>\n",
       "      <td>661</td>\n",
       "    </tr>\n",
       "  </tbody>\n",
       "</table>\n",
       "</div>"
      ],
      "text/plain": [
       "      Income  Limit  Rating  Cards  Age  Education  Married  Balance\n",
       "0     14.891   3606     283      2   34         11        1      333\n",
       "20    17.700   2860     235      4   63         16        0       89\n",
       "40    34.950   3327     253      3   54         14        0       50\n",
       "60    35.510   5198     364      2   35         20        0      631\n",
       "80    27.369   3449     288      3   40          9        1      162\n",
       "100   21.153   3736     256      1   41         11        0      298\n",
       "120   27.241   1402     128      2   67         15        1        0\n",
       "140   39.831   6045     459      3   32         12        1     1425\n",
       "160   12.238   4865     381      5   67         11        0      836\n",
       "180   10.635   3584     294      5   69         16        1      423\n",
       "200   23.949   5343     383      2   40         18        1      829\n",
       "220   44.847   5765     437      3   53         13        0     1246\n",
       "240   29.705   3351     262      5   71         14        1      148\n",
       "260   67.937   5184     383      4   63         12        1      345\n",
       "280   53.401   5319     377      3   35         12        0      541\n",
       "300   21.786   4632     355      1   50         17        1      580\n",
       "320   16.279   1160     126      3   78         13        1        5\n",
       "340   27.794   3807     301      4   35          8        1      320\n",
       "360   53.566   5891     434      4   82         10        0      712\n",
       "380  115.123   7760     538      3   83         14        0      661"
      ]
     },
     "execution_count": 59,
     "metadata": {},
     "output_type": "execute_result"
    }
   ],
   "source": [
    "credit_df[0::20] "
   ]
  },
  {
   "cell_type": "markdown",
   "metadata": {},
   "source": [
    "### C. Generate the feature matrix and target vector. Then, normalize the features:"
   ]
  },
  {
   "cell_type": "code",
   "execution_count": 60,
   "metadata": {},
   "outputs": [
    {
     "name": "stdout",
     "output_type": "stream",
     "text": [
      "(400, 7)\n"
     ]
    },
    {
     "data": {
      "text/html": [
       "<div>\n",
       "<style scoped>\n",
       "    .dataframe tbody tr th:only-of-type {\n",
       "        vertical-align: middle;\n",
       "    }\n",
       "\n",
       "    .dataframe tbody tr th {\n",
       "        vertical-align: top;\n",
       "    }\n",
       "\n",
       "    .dataframe thead th {\n",
       "        text-align: right;\n",
       "    }\n",
       "</style>\n",
       "<table border=\"1\" class=\"dataframe\">\n",
       "  <thead>\n",
       "    <tr style=\"text-align: right;\">\n",
       "      <th></th>\n",
       "      <th>Income</th>\n",
       "      <th>Limit</th>\n",
       "      <th>Rating</th>\n",
       "      <th>Cards</th>\n",
       "      <th>Age</th>\n",
       "      <th>Education</th>\n",
       "      <th>Married</th>\n",
       "    </tr>\n",
       "  </thead>\n",
       "  <tbody>\n",
       "    <tr>\n",
       "      <th>0</th>\n",
       "      <td>14.891</td>\n",
       "      <td>3606</td>\n",
       "      <td>283</td>\n",
       "      <td>2</td>\n",
       "      <td>34</td>\n",
       "      <td>11</td>\n",
       "      <td>1</td>\n",
       "    </tr>\n",
       "    <tr>\n",
       "      <th>1</th>\n",
       "      <td>106.025</td>\n",
       "      <td>6645</td>\n",
       "      <td>483</td>\n",
       "      <td>3</td>\n",
       "      <td>82</td>\n",
       "      <td>15</td>\n",
       "      <td>1</td>\n",
       "    </tr>\n",
       "    <tr>\n",
       "      <th>2</th>\n",
       "      <td>104.593</td>\n",
       "      <td>7075</td>\n",
       "      <td>514</td>\n",
       "      <td>4</td>\n",
       "      <td>71</td>\n",
       "      <td>11</td>\n",
       "      <td>0</td>\n",
       "    </tr>\n",
       "    <tr>\n",
       "      <th>3</th>\n",
       "      <td>148.924</td>\n",
       "      <td>9504</td>\n",
       "      <td>681</td>\n",
       "      <td>3</td>\n",
       "      <td>36</td>\n",
       "      <td>11</td>\n",
       "      <td>0</td>\n",
       "    </tr>\n",
       "    <tr>\n",
       "      <th>4</th>\n",
       "      <td>55.882</td>\n",
       "      <td>4897</td>\n",
       "      <td>357</td>\n",
       "      <td>2</td>\n",
       "      <td>68</td>\n",
       "      <td>16</td>\n",
       "      <td>1</td>\n",
       "    </tr>\n",
       "  </tbody>\n",
       "</table>\n",
       "</div>"
      ],
      "text/plain": [
       "    Income  Limit  Rating  Cards  Age  Education  Married\n",
       "0   14.891   3606     283      2   34         11        1\n",
       "1  106.025   6645     483      3   82         15        1\n",
       "2  104.593   7075     514      4   71         11        0\n",
       "3  148.924   9504     681      3   36         11        0\n",
       "4   55.882   4897     357      2   68         16        1"
      ]
     },
     "execution_count": 60,
     "metadata": {},
     "output_type": "execute_result"
    }
   ],
   "source": [
    "# Feature matrix\n",
    "feature_cols = ['Income','Limit','Rating','Cards','Age','Education','Married'] \n",
    "\n",
    "X = credit_df[feature_cols]\n",
    "\n",
    "print(X.shape)\n",
    "\n",
    "# Target vector\n",
    "y = credit_df['Balance']\n",
    "\n",
    "X.head()"
   ]
  },
  {
   "cell_type": "code",
   "execution_count": 61,
   "metadata": {},
   "outputs": [],
   "source": [
    "# Normalizing data\n",
    "from sklearn import preprocessing\n",
    "\n",
    "X_scaled = preprocessing.scale(X)\n",
    "#print(X_scaled)"
   ]
  },
  {
   "cell_type": "markdown",
   "metadata": {},
   "source": [
    "### D. Split the dataset into testing and training sets with the following parameters: test_size=0.24, random_state=9: "
   ]
  },
  {
   "cell_type": "code",
   "execution_count": 62,
   "metadata": {},
   "outputs": [
    {
     "name": "stdout",
     "output_type": "stream",
     "text": [
      "(304, 7)\n",
      "(304,)\n",
      "\n",
      "\n",
      "(96, 7)\n",
      "(96,)\n"
     ]
    }
   ],
   "source": [
    "from sklearn.model_selection import train_test_split\n",
    "X_train, X_test, y_train, y_test = train_test_split(X, y, test_size=0.24, random_state=9)\n",
    "\n",
    "print(X_train.shape)\n",
    "print(y_train.shape) \n",
    "print('\\n')\n",
    "print(X_test.shape)\n",
    "print(y_test.shape) "
   ]
  },
  {
   "cell_type": "markdown",
   "metadata": {},
   "source": [
    "### E. Use Linear Regression to train a linear model on the training set. Check the coefficients of the linear regression model. Which feature is the most important? Which feature is the least important? "
   ]
  },
  {
   "cell_type": "code",
   "execution_count": 63,
   "metadata": {},
   "outputs": [
    {
     "data": {
      "text/plain": [
       "LinearRegression()"
      ]
     },
     "execution_count": 63,
     "metadata": {},
     "output_type": "execute_result"
    }
   ],
   "source": [
    "my_linreg = LinearRegression()\n",
    "\n",
    "my_linreg.fit(X_train, y_train) "
   ]
  },
  {
   "cell_type": "code",
   "execution_count": 64,
   "metadata": {},
   "outputs": [
    {
     "name": "stdout",
     "output_type": "stream",
     "text": [
      "-497.0869076583074\n",
      "[ -7.5197188    0.15640406   1.6355104   18.19349659  -1.00062374\n",
      "   3.73501837 -20.17447952]\n"
     ]
    }
   ],
   "source": [
    "print(my_linreg.intercept_)\n",
    "\n",
    "print(my_linreg.coef_)"
   ]
  },
  {
   "cell_type": "markdown",
   "metadata": {},
   "source": [
    "From the results above, we observe that \"Married\" would be the most important feature since it's the largest (ignoring the negative). While \"Limit\" would be the least important feature."
   ]
  },
  {
   "cell_type": "markdown",
   "metadata": {},
   "source": [
    "### F. Predict “balance” for the users in testing set. Then, compare the predicted balance with the actual balance by calculating and reporting the RMSE: "
   ]
  },
  {
   "cell_type": "code",
   "execution_count": 65,
   "metadata": {},
   "outputs": [
    {
     "name": "stdout",
     "output_type": "stream",
     "text": [
      "[ 316.89813114  677.5093907   489.03669272  -49.82989971  706.42913216\n",
      "  864.96954115  897.65752581  108.20297732 -213.73474279  834.94198677\n",
      "   11.05109139 -227.34447869  472.01450822    4.54554458 -228.17349827\n",
      "  956.21537845  896.91570524  821.97824267   18.37144232  857.31517013\n",
      " 1028.30326279  699.22168497 1176.9426756   666.28578465  643.94064891\n",
      "  690.63628696  589.35273903  -29.37237394  575.15444917  406.78468032\n",
      "  845.81453327  828.30862904   82.2376206   953.40592514 -184.74828227\n",
      "  525.84335889 1045.19205022  535.04104472  107.26753118 -172.8968111\n",
      "  497.84037664 1155.35533939  429.08674601  403.49872552  143.72087313\n",
      "  764.78737012  431.24114308 1304.79656588  475.00132057   95.75404622\n",
      " -215.69000296    5.62900657  313.88797405  859.9328932   792.27147016\n",
      " 1029.90210771 1500.40180297 1078.48617624  713.37981473 1072.97948262\n",
      "  -64.12187718  488.60063387   92.3601712   440.414465    277.13284667\n",
      " 1075.41508762  258.10181743  773.89657462  278.12447916  409.51029492\n",
      "  335.56674013  989.87781589  978.31940615 1042.6230052   915.82319179\n",
      "  150.95645254  516.7089988   733.47654088   74.84330655  556.47429962\n",
      " 1096.60831626  359.12494251  204.54562103  407.76115868  113.50656023\n",
      "  958.07237887  934.59051997    2.98452112 1627.80317193  636.31395153\n",
      "  688.17824441  711.80910955  293.66354104 -219.28997401  -91.76701391\n",
      " -149.31642723]\n"
     ]
    }
   ],
   "source": [
    "y_prediction = my_linreg.predict(X_test)\n",
    "\n",
    "print(y_prediction)"
   ]
  },
  {
   "cell_type": "code",
   "execution_count": 66,
   "metadata": {},
   "outputs": [
    {
     "name": "stdout",
     "output_type": "stream",
     "text": [
      "143.2464973964321\n"
     ]
    }
   ],
   "source": [
    "#calculating \"Mean Square Error\" (MSE):\n",
    "mse = metrics.mean_squared_error(y_test, y_prediction)\n",
    "\n",
    "#calculating \"Root Mean Square Error\" (RMSE): \n",
    "rmse = np.sqrt(mse)\n",
    "\n",
    "print(rmse)"
   ]
  },
  {
   "cell_type": "code",
   "execution_count": null,
   "metadata": {},
   "outputs": [],
   "source": []
  },
  {
   "cell_type": "markdown",
   "metadata": {},
   "source": [
    "### G. Now, use 10-fold Cross-Validation to evaluate the performance of a linear regression in predicting the balance. Thus, rather than splitting the dataset into testing and training, use Cross-Validation to evaluate the regression performance. What is the RMSE when you use cross validation?"
   ]
  },
  {
   "cell_type": "code",
   "execution_count": 67,
   "metadata": {},
   "outputs": [
    {
     "name": "stdout",
     "output_type": "stream",
     "text": [
      "[-23646.90415342 -32003.04401232 -35462.64435619 -37327.60719635\n",
      " -14341.32205938 -33628.37104224 -31631.99317834 -12491.00334951\n",
      " -20749.61212176 -23204.9474346 ]\n"
     ]
    }
   ],
   "source": [
    "from sklearn.model_selection import cross_val_score\n",
    "\n",
    "mse_list = cross_val_score(my_linreg, X, y, cv=10, scoring='neg_mean_squared_error')\n",
    "\n",
    "print(mse_list)"
   ]
  },
  {
   "cell_type": "code",
   "execution_count": 68,
   "metadata": {},
   "outputs": [
    {
     "name": "stdout",
     "output_type": "stream",
     "text": [
      "[153.7754992  178.89394627 188.31527914 193.20353826 119.75525901\n",
      " 183.38039983 177.85385343 111.76315739 144.04725656 152.331702  ]\n"
     ]
    }
   ],
   "source": [
    "mse_list_positive = -mse_list\n",
    "\n",
    "# using numpy sqrt function to calculate rmse:\n",
    "rmse_list = np.sqrt(mse_list_positive)\n",
    "print(rmse_list)"
   ]
  },
  {
   "cell_type": "code",
   "execution_count": 69,
   "metadata": {},
   "outputs": [
    {
     "name": "stdout",
     "output_type": "stream",
     "text": [
      "160.33198910744073\n"
     ]
    }
   ],
   "source": [
    "# calculate the average RMSE as final result of cross validation:\n",
    "print(rmse_list.mean())"
   ]
  },
  {
   "cell_type": "code",
   "execution_count": null,
   "metadata": {},
   "outputs": [],
   "source": []
  }
 ],
 "metadata": {
  "kernelspec": {
   "display_name": "Python 3",
   "language": "python",
   "name": "python3"
  },
  "language_info": {
   "codemirror_mode": {
    "name": "ipython",
    "version": 3
   },
   "file_extension": ".py",
   "mimetype": "text/x-python",
   "name": "python",
   "nbconvert_exporter": "python",
   "pygments_lexer": "ipython3",
   "version": "3.8.2"
  }
 },
 "nbformat": 4,
 "nbformat_minor": 4
}
